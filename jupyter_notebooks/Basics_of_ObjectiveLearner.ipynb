{
 "cells": [
  {
   "cell_type": "markdown",
   "metadata": {},
   "source": [
    "# Basics of ObjectiveLearner"
   ]
  },
  {
   "cell_type": "markdown",
   "metadata": {},
   "source": [
    "## What is ObjectiveLearner\n",
    "\n",
    "**ObjectiveLearner** defines the python module `objlearner` that provides functionality to run machine learning (linear regression) and sensitivity analysis on the objective function versus parameter relationship using the thousands (to millions) of (sometimes expensive) objective function evaluations performed during model calibration with packages like [PyDREAM](https://github.com/LoLab-VU/PyDREAM), [simplePSO](https://github.com/LoLab-VU/ParticleSwarmOptimization), [Gleipnir](https://github.com/LoLab-VU/Gleipnir), and [GAlibrate](https://github.com/blakeaw/GAlibrate).\n",
    "\n",
    "ObjectiveLearner provides easy to use objective function decorators which allow users to save data from the objective function evaluations performed during model calibration, and thereby provides them a way to utilize what would typically be lost data (i.e., not saved by the calibrator) and learn even more about the objective function and its relationship to model parameters, as well as learn more about the underlying model and assumptions the objective function represents.\n",
    "\n",
    "ObjectiveLearner installs as the `objlearner` package which defines the three decorator classes:\n",
    "   * ObjectiveCounter - counts the number of objective function calls.\n",
    "   * ObjectiveSaver - saves the input-output pairs fo the objective function calls.\n",
    "   * ObjectiveLearner - provides machine learning (linear regression) and sensitivity analysis.\n",
    "\n",
    "In the following sections we'll cover each class and it's use. "
   ]
  },
  {
   "cell_type": "markdown",
   "metadata": {},
   "source": [
    "### The Example Model\n",
    "\n",
    "For the purposes of this overview we will use the [GAlibrate](https://github.com/blakeaw/GAlibrate) package which defines a genetic algorithm optimizer: \n",
    "```\n",
    "pip install galibrate\n",
    "```\n",
    "or \n",
    "```\n",
    "conda install -c blakeaw galibrate\n",
    "```\n",
    "\n",
    "We will estimate the model parameters for a linear fit to three data points with uncertainty, an example adapted from the Nestle 'Getting started' section at: http://kylebarbary.com/nestle/\n"
   ]
  },
  {
   "cell_type": "markdown",
   "metadata": {},
   "source": [
    "Here are the imports we need from NumPy and GAlibrate:"
   ]
  },
  {
   "cell_type": "code",
   "execution_count": 1,
   "metadata": {},
   "outputs": [],
   "source": [
    "import numpy as np\n",
    "import warnings\n",
    "warnings.filterwarnings('ignore')\n",
    "from galibrate.sampled_parameter import SampledParameter\n",
    "from galibrate import GAO"
   ]
  },
  {
   "cell_type": "markdown",
   "metadata": {},
   "source": [
    "And this is the data that we are going calibrate against:"
   ]
  },
  {
   "cell_type": "code",
   "execution_count": 2,
   "metadata": {},
   "outputs": [],
   "source": [
    "# Setup the data points that are being fitted.\n",
    "data_x = np.array([1., 2., 3.])\n",
    "data_y = np.array([1.4, 1.7, 4.1])\n",
    "data_yerr = np.array([0.2, 0.15, 0.2])"
   ]
  },
  {
   "cell_type": "markdown",
   "metadata": {},
   "source": [
    "This is the objective function for this problem, a genetic algorithm fitness function which will be maximized by the GAO:"
   ]
  },
  {
   "cell_type": "code",
   "execution_count": 3,
   "metadata": {},
   "outputs": [],
   "source": [
    "def fitness(chromosome):\n",
    "    y = chromosome[1] * data_x + chromosome[0]\n",
    "    chisq = np.sum(((data_y - y) / data_yerr)**2)\n",
    "    if np.isnan(chisq):\n",
    "        return -np.inf\n",
    "    return -chisq / 2."
   ]
  },
  {
   "cell_type": "markdown",
   "metadata": {},
   "source": [
    "### ObjectiveCounter\n",
    "\n",
    "The ObjectiveCounter simply keeps count of the number of calls to the objective function. It's imported from `objlearner`:"
   ]
  },
  {
   "cell_type": "code",
   "execution_count": 4,
   "metadata": {},
   "outputs": [],
   "source": [
    "from objlearner import ObjectiveCounter"
   ]
  },
  {
   "cell_type": "markdown",
   "metadata": {},
   "source": [
    "Then we use it as a decorator for the objective function:"
   ]
  },
  {
   "cell_type": "code",
   "execution_count": 5,
   "metadata": {},
   "outputs": [],
   "source": [
    "@ObjectiveCounter\n",
    "def fitness(chromosome):\n",
    "    y = chromosome[1] * data_x + chromosome[0]\n",
    "    chisq = np.sum(((data_y - y) / data_yerr)**2)\n",
    "    if np.isnan(chisq):\n",
    "        return -np.inf\n",
    "    return -chisq / 2."
   ]
  },
  {
   "cell_type": "markdown",
   "metadata": {},
   "source": [
    "And then we setup and run the calibration run as normal:"
   ]
  },
  {
   "cell_type": "code",
   "execution_count": 6,
   "metadata": {},
   "outputs": [
    {
     "name": "stdout",
     "output_type": "stream",
     "text": [
      "Sampling a total of 2 parameters\n",
      "Will use GA population size of 200\n",
      "[-0.56705695  1.36729111] -13.346725455987585\n"
     ]
    }
   ],
   "source": [
    "# Set up the list of sampled parameters\n",
    "parm_names = list(['m', 'b'])\n",
    "sampled_parameters = [SampledParameter(name=p, loc=-5.0, width=10.0) for p in parm_names]\n",
    "\n",
    "# Set the active point population size\n",
    "population_size = 200\n",
    "n_params = len(sampled_parameters)\n",
    "print(\"Sampling a total of {} parameters\".format(n_params))\n",
    "print(\"Will use GA population size of {}\".format(population_size))\n",
    "# Construct the GAO\n",
    "gao = GAO(sampled_parameters,\n",
    "         fitness,\n",
    "         population_size,\n",
    "         generations = 100,\n",
    "         mutation_rate = 0.1)\n",
    "# run it\n",
    "best, best_f = gao.run()\n",
    "print(best, best_f)"
   ]
  },
  {
   "cell_type": "markdown",
   "metadata": {},
   "source": [
    "Then we can access the information on the number of objective function evaluations with `count` member variable:"
   ]
  },
  {
   "cell_type": "code",
   "execution_count": 7,
   "metadata": {},
   "outputs": [
    {
     "name": "stdout",
     "output_type": "stream",
     "text": [
      "Number of fitness evaluations:  10300\n"
     ]
    }
   ],
   "source": [
    "print(\"Number of fitness evaluations: \",fitness.count)"
   ]
  },
  {
   "cell_type": "markdown",
   "metadata": {},
   "source": [
    "### ObjectiveSaver\n",
    "\n",
    "In addition to keeping count of the number of calls to the objective function, ObjectiveSaver also saves the input parameter vectors and the corresponding objective function evaluations. It's imported from `objlearner`:"
   ]
  },
  {
   "cell_type": "code",
   "execution_count": 8,
   "metadata": {},
   "outputs": [],
   "source": [
    "from objlearner import ObjectiveSaver"
   ]
  },
  {
   "cell_type": "markdown",
   "metadata": {},
   "source": [
    "Then we use it as a decorator for the objective function:"
   ]
  },
  {
   "cell_type": "code",
   "execution_count": 9,
   "metadata": {},
   "outputs": [],
   "source": [
    "@ObjectiveSaver\n",
    "def fitness(chromosome):\n",
    "    y = chromosome[1] * data_x + chromosome[0]\n",
    "    chisq = np.sum(((data_y - y) / data_yerr)**2)\n",
    "    if np.isnan(chisq):\n",
    "        return -np.inf\n",
    "    return -chisq / 2."
   ]
  },
  {
   "cell_type": "markdown",
   "metadata": {},
   "source": [
    "And then we setup and run the calibration run as normal:"
   ]
  },
  {
   "cell_type": "code",
   "execution_count": 10,
   "metadata": {},
   "outputs": [
    {
     "name": "stdout",
     "output_type": "stream",
     "text": [
      "Sampling a total of 2 parameters\n",
      "Will use GA population size of 200\n",
      "[-0.79918611  1.5037125 ] -13.66846625270572\n"
     ]
    }
   ],
   "source": [
    "# Set up the list of sampled parameters\n",
    "parm_names = list(['m', 'b'])\n",
    "sampled_parameters = [SampledParameter(name=p, loc=-5.0, width=10.0) for p in parm_names]\n",
    "\n",
    "# Set the active point population size\n",
    "population_size = 200\n",
    "n_params = len(sampled_parameters)\n",
    "print(\"Sampling a total of {} parameters\".format(n_params))\n",
    "print(\"Will use GA population size of {}\".format(population_size))\n",
    "# Construct the GAO\n",
    "gao = GAO(sampled_parameters,\n",
    "         fitness,\n",
    "         population_size,\n",
    "         generations = 100,\n",
    "         mutation_rate = 0.1)\n",
    "# run it\n",
    "best, best_f = gao.run()\n",
    "print(best, best_f)"
   ]
  },
  {
   "cell_type": "markdown",
   "metadata": {},
   "source": [
    "Then the principal information for the objective function evaluations is accessed with `objective_theta` member variable:"
   ]
  },
  {
   "cell_type": "code",
   "execution_count": 11,
   "metadata": {},
   "outputs": [
    {
     "name": "stdout",
     "output_type": "stream",
     "text": [
      "         objective         0         1\n",
      "0      -582.077383  2.496212 -1.509628\n",
      "1     -2040.860470 -4.143326 -0.037828\n",
      "2     -1154.504034  2.668814  2.230891\n",
      "3      -295.493719  0.838757 -0.347136\n",
      "4     -1175.177549 -3.536096  0.437793\n",
      "...            ...       ...       ...\n",
      "10295   -75.299264 -3.106083  2.195946\n",
      "10296  -121.823400 -3.106083  1.954393\n",
      "10297  -547.583096 -1.569299  0.276223\n",
      "10298 -3243.127509  3.189460  3.587610\n",
      "10299 -1283.108397  0.597351  3.321245\n",
      "\n",
      "[10300 rows x 3 columns]\n"
     ]
    }
   ],
   "source": [
    "print(fitness.objective_theta)"
   ]
  },
  {
   "cell_type": "markdown",
   "metadata": {},
   "source": [
    "which returns a pandas DataFrame.\n",
    "\n",
    "Additionally, the ObjectiveSaver defines the following member variable and functions:\n",
    "  * count - the number of objective function evaluations\n",
    "  * write_csv(prefix='filename_prefix') - write out the objective function evaluation data as a csv file\n",
    "  * write_npy(prefix='filename_prefix') - write out the objective function evaluation data as a NumPy npy file "
   ]
  },
  {
   "cell_type": "markdown",
   "metadata": {},
   "source": [
    "### ObjectiveLearner\n",
    "\n",
    "The ObjectiveLearner is the principal (and name) tool from the **ObjectiveLearner** package, and it provides functionanlity to analyze objective function evaluation data with machine learning (linear regression) and sensitivity analysis. It's imported from `objlearner`:"
   ]
  },
  {
   "cell_type": "code",
   "execution_count": 12,
   "metadata": {},
   "outputs": [],
   "source": [
    "from objlearner import ObjectiveLearner"
   ]
  },
  {
   "cell_type": "markdown",
   "metadata": {},
   "source": [
    "Then we use it as a decorator for the objective function:"
   ]
  },
  {
   "cell_type": "code",
   "execution_count": 13,
   "metadata": {},
   "outputs": [],
   "source": [
    "@ObjectiveLearner\n",
    "def fitness(chromosome):\n",
    "    y = chromosome[1] * data_x + chromosome[0]\n",
    "    chisq = np.sum(((data_y - y) / data_yerr)**2)\n",
    "    if np.isnan(chisq):\n",
    "        return -np.inf\n",
    "    return -chisq / 2."
   ]
  },
  {
   "cell_type": "markdown",
   "metadata": {},
   "source": [
    "And then we setup and run the calibration run as normal:"
   ]
  },
  {
   "cell_type": "code",
   "execution_count": 14,
   "metadata": {},
   "outputs": [
    {
     "name": "stdout",
     "output_type": "stream",
     "text": [
      "Sampling a total of 2 parameters\n",
      "Will use GA population size of 200\n",
      "[0.31559723 1.16998722] -21.32452627782136\n"
     ]
    }
   ],
   "source": [
    "# Set up the list of sampled parameters\n",
    "parm_names = list(['m', 'b'])\n",
    "sampled_parameters = [SampledParameter(name=p, loc=-5.0, width=10.0) for p in parm_names]\n",
    "\n",
    "# Set the active point population size\n",
    "population_size = 200\n",
    "n_params = len(sampled_parameters)\n",
    "print(\"Sampling a total of {} parameters\".format(n_params))\n",
    "print(\"Will use GA population size of {}\".format(population_size))\n",
    "# Construct the GAO\n",
    "gao = GAO(sampled_parameters,\n",
    "         fitness,\n",
    "         population_size,\n",
    "         generations = 100,\n",
    "         mutation_rate = 0.1)\n",
    "# run it\n",
    "best, best_f = gao.run()\n",
    "print(best, best_f)"
   ]
  },
  {
   "cell_type": "markdown",
   "metadata": {},
   "source": [
    "#### Machine Learning (Linear Regression)\n",
    "\n",
    "The CostLearner decorator provides several functions to compute the coefficients and explained variance score between the objective function and input parameter vectors using linear regression methods (form [scikit-learn](https://scikit-learn.org/stable/index.html)):\n",
    "\n",
    "  * least_squares() - Least squares linear regression of the objective function against the parameters.\n",
    "  * ridge() - Ridge regression of the objective function against the parameters.\n",
    "  * lasso() - Lasso regression of the objective function against the parameters.\n",
    "  * linear_svr() - Linear Support Vector Regression (SVR) of the objective function against the parameters.\n",
    "  \n",
    "For example:  "
   ]
  },
  {
   "cell_type": "code",
   "execution_count": 15,
   "metadata": {},
   "outputs": [
    {
     "name": "stdout",
     "output_type": "stream",
     "text": [
      "Least-squares linear regression coefficients and explained variance score:\n",
      "[266.20168399 530.35933768] 0.394795416957206\n"
     ]
    }
   ],
   "source": [
    "coefs, ev_score = fitness.least_squares()\n",
    "print(\"Least-squares linear regression coefficients and explained variance score:\")\n",
    "print(coefs, ev_score)"
   ]
  },
  {
   "cell_type": "markdown",
   "metadata": {},
   "source": [
    "#### Sensitivity Analysis\n",
    "\n",
    "The CostLearner decorator also provides several functions to compute sensitivity metrics between the objective function and input parameter vectors using sensitivity analyses (from [SALib](https://salib.readthedocs.io/en/latest/index.html)):\n",
    "\n",
    "  * sobol() - Sobol sensitivity of the objective function.\n",
    "  * morris() - Morris Method sensitivity of the objective function.\n",
    "  * delta() - Delta Moment-Independent Measure sensitivity of the objective function.\n",
    "  * fast() - FAST sensitivity analysis of the objective function.\n",
    "  * rbd_fast() - RBD-FAST sensitivity analysis of the objective function.\n",
    "  \n",
    "For example:  "
   ]
  },
  {
   "cell_type": "code",
   "execution_count": 16,
   "metadata": {},
   "outputs": [
    {
     "name": "stdout",
     "output_type": "stream",
     "text": [
      "{'S1': array([0.06311959, 0.61061728]), 'S1_conf': array([0.03795813, 0.06443074]), 'ST': array([0.3950405 , 0.93424471]), 'ST_conf': array([0.0388747 , 0.06694005]), 'S2': array([[       nan, 0.33133916],\n",
      "       [       nan,        nan]]), 'S2_conf': array([[       nan, 0.08332596],\n",
      "       [       nan,        nan]])}\n"
     ]
    }
   ],
   "source": [
    "Si = fitness.sobol()\n",
    "print(Si)"
   ]
  }
 ],
 "metadata": {
  "kernelspec": {
   "display_name": "Python 3",
   "language": "python",
   "name": "python3"
  },
  "language_info": {
   "codemirror_mode": {
    "name": "ipython",
    "version": 3
   },
   "file_extension": ".py",
   "mimetype": "text/x-python",
   "name": "python",
   "nbconvert_exporter": "python",
   "pygments_lexer": "ipython3",
   "version": "3.7.3"
  }
 },
 "nbformat": 4,
 "nbformat_minor": 2
}
